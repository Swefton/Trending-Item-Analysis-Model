{
 "cells": [
  {
   "cell_type": "code",
   "execution_count": 1,
   "metadata": {},
   "outputs": [
    {
     "data": {
      "text/plain": [
       "['retro video games',\n",
       " 'over the top games',\n",
       " 'new upcoming games',\n",
       " 'video game',\n",
       " 'free games',\n",
       " 'nintendo upcoming games',\n",
       " 'popular xbox games',\n",
       " 'video games near me',\n",
       " 'best new games',\n",
       " 'new switch games',\n",
       " 'new games coming out',\n",
       " 'uswnt upcoming games',\n",
       " 'nintendo',\n",
       " 'nintendo switch',\n",
       " 'ps5',\n",
       " 'best upcoming games',\n",
       " 'ps5 games',\n",
       " 'steam',\n",
       " 'top games 2024',\n",
       " 'baseball video games',\n",
       " 'video games lyrics',\n",
       " 'upcoming cubs games',\n",
       " 'top games on steam',\n",
       " 'ps5 top games',\n",
       " 'top upcoming games',\n",
       " 'popular games right now',\n",
       " 'old video games',\n",
       " 'best video games of all time',\n",
       " 'top games of all time',\n",
       " 'football video games',\n",
       " 'upcoming games 2025',\n",
       " 'nintendo switch top games',\n",
       " 'mexico upcoming games',\n",
       " 'most popular games 2024',\n",
       " 'new york times',\n",
       " 'top steam games',\n",
       " 'top games of 2024',\n",
       " 'best video games',\n",
       " 'video games free',\n",
       " 'prime video',\n",
       " 'pokemon upcoming games',\n",
       " 'most popular games',\n",
       " 'board games',\n",
       " 'video games 2024',\n",
       " 'fun video games',\n",
       " 'ps5 new games',\n",
       " 'popular games on steam',\n",
       " 'video games to play',\n",
       " 'best upcoming games 2024',\n",
       " 'ps5 upcoming games 2024',\n",
       " 'new video games',\n",
       " 'top games 2023',\n",
       " 'new games 2024',\n",
       " 'upcoming switch games',\n",
       " 'popular games 2024',\n",
       " 'popular video games',\n",
       " 'metacritic top games of all time',\n",
       " 'video games for kids',\n",
       " 'top video games',\n",
       " 'used video games',\n",
       " 'popular gacha games',\n",
       " 'nyt games',\n",
       " 'table top games',\n",
       " '2024 in video games']"
      ]
     },
     "execution_count": 1,
     "metadata": {},
     "output_type": "execute_result"
    }
   ],
   "source": []
  },
  {
   "cell_type": "code",
   "execution_count": null,
   "metadata": {},
   "outputs": [],
   "source": []
  }
 ],
 "metadata": {
  "kernelspec": {
   "display_name": ".venv",
   "language": "python",
   "name": "python3"
  },
  "language_info": {
   "codemirror_mode": {
    "name": "ipython",
    "version": 3
   },
   "file_extension": ".py",
   "mimetype": "text/x-python",
   "name": "python",
   "nbconvert_exporter": "python",
   "pygments_lexer": "ipython3",
   "version": "3.12.3"
  }
 },
 "nbformat": 4,
 "nbformat_minor": 2
}
