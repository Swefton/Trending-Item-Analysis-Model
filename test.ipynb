{
 "cells": [
  {
   "cell_type": "code",
   "execution_count": 9,
   "metadata": {},
   "outputs": [],
   "source": [
    "from igdb.wrapper import IGDBWrapper\n",
    "import requests\n",
    "import secret_keys\n",
    "\n",
    "\n",
    "client_id = secret_keys.client_id\n",
    "client_secret = secret_keys.client_secret\n",
    "\n",
    "grant_type='client_credentials'"
   ]
  },
  {
   "cell_type": "code",
   "execution_count": 10,
   "metadata": {},
   "outputs": [],
   "source": [
    "url = \"https://id.twitch.tv/oauth2/token\"\n",
    "payload = {\n",
    "    \"client_id\": client_id,\n",
    "    \"client_secret\": client_secret,\n",
    "    \"grant_type\": grant_type\n",
    "}\n",
    "\n",
    "response = requests.post(url, data=payload)\n",
    "access_token = response.json()['access_token']"
   ]
  },
  {
   "cell_type": "code",
   "execution_count": 11,
   "metadata": {},
   "outputs": [
    {
     "name": "stdout",
     "output_type": "stream",
     "text": [
      "[id: 119066\n",
      "name: \"Left Alive: Day One Edition\"\n",
      ", id: 276407\n",
      "name: \"Bamboo\"\n",
      ", id: 279323\n",
      "name: \"Extreme Bike Racing\"\n",
      ", id: 201735\n",
      "name: \"Egg Runner\"\n",
      ", id: 26086\n",
      "name: \"Assassin\\'s Creed IV Black Flag: Kraken Ship Pack\"\n",
      ", id: 58921\n",
      "name: \"ArmaGallant: Decks of Destiny\"\n",
      ", id: 120546\n",
      "name: \"Gravity Ghost: Deluxe Edition\"\n",
      ", id: 88367\n",
      "name: \"Checkers\"\n",
      ", id: 222072\n",
      "name: \"Tantei Jinguuji Saburou: Prism of Eyes - Shisha ni Sasageru Ishi\"\n",
      ", id: 111057\n",
      "name: \"Phobos Vector Prime: The First Ring\"\n",
      "]\n"
     ]
    }
   ],
   "source": [
    "wrapper = IGDBWrapper(client_id, access_token)\n",
    "\n",
    "from igdb.igdbapi_pb2 import GameResult\n",
    "byte_array = wrapper.api_request(\n",
    "            'games.pb', # Note the '.pb' suffix at the endpoint\n",
    "            'fields id, name; offset 0; where platforms=48;'\n",
    "          )\n",
    "games_message = GameResult()\n",
    "games_message.ParseFromString(byte_array) # Fills the protobuf message object with the response\n",
    "games = games_message.games\n",
    "\n",
    "print(games)"
   ]
  },
  {
   "cell_type": "code",
   "execution_count": 18,
   "metadata": {},
   "outputs": [
    {
     "name": "stdout",
     "output_type": "stream",
     "text": [
      "response:\n",
      "[\n",
      "    {\n",
      "        \"id\": 1,\n",
      "        \"created_at\": 1298968658,\n",
      "        \"name\": \"First person\",\n",
      "        \"slug\": \"first-person\",\n",
      "        \"updated_at\": 1323289214,\n",
      "        \"url\": \"https://www.igdb.com/player_perspectives/first-person\",\n",
      "        \"checksum\": \"b2cf5f87-0b42-b0e5-60d2-e2588d51441b\"\n",
      "    },\n",
      "    {\n",
      "        \"id\": 2,\n",
      "        \"created_at\": 1298968673,\n",
      "        \"name\": \"Third person\",\n",
      "        \"slug\": \"third-person\",\n",
      "        \"updated_at\": 1323289214,\n",
      "        \"url\": \"https://www.igdb.com/player_perspectives/third-person\",\n",
      "        \"checksum\": \"8c5f2da8-3feb-46c6-93ca-16e062955679\"\n",
      "    },\n",
      "    {\n",
      "        \"id\": 3,\n",
      "        \"created_at\": 1298968714,\n",
      "        \"name\": \"Bird view / Isometric\",\n",
      "        \"slug\": \"bird-view-slash-isometric\",\n",
      "        \"updated_at\": 1582538443,\n",
      "        \"url\": \"https://www.igdb.com/player_perspectives/bird-view-slash-isometric\",\n",
      "        \"checksum\": \"4b71829b-8124-9b85-4f20-fc661e7351fe\"\n",
      "    },\n",
      "    {\n",
      "        \"id\": 4,\n",
      "        \"created_at\": 1298968735,\n",
      "        \"name\": \"Side view\",\n",
      "        \"slug\": \"side-view\",\n",
      "        \"updated_at\": 1323289214,\n",
      "        \"url\": \"https://www.igdb.com/player_perspectives/side-view\",\n",
      "        \"checksum\": \"293d7ff1-90fd-d1ae-0d99-fb32b6eb068b\"\n",
      "    },\n",
      "    {\n",
      "        \"id\": 5,\n",
      "        \"created_at\": 1321295979,\n",
      "        \"name\": \"Text\",\n",
      "        \"slug\": \"text\",\n",
      "        \"updated_at\": 1323289214,\n",
      "        \"url\": \"https://www.igdb.com/player_perspectives/text\",\n",
      "        \"checksum\": \"24b43877-61b4-5f16-4faa-379691d074a0\"\n",
      "    },\n",
      "    {\n",
      "        \"id\": 6,\n",
      "        \"created_at\": 1413209511,\n",
      "        \"name\": \"Auditory\",\n",
      "        \"slug\": \"auditory\",\n",
      "        \"updated_at\": 1582538757,\n",
      "        \"url\": \"https://www.igdb.com/player_perspectives/auditory\",\n",
      "        \"checksum\": \"34127009-b60b-bdb7-d669-50534c595656\"\n",
      "    },\n",
      "    {\n",
      "        \"id\": 7,\n",
      "        \"created_at\": 1462288484,\n",
      "        \"name\": \"Virtual Reality\",\n",
      "        \"slug\": \"virtual-reality\",\n",
      "        \"updated_at\": 1462288484,\n",
      "        \"url\": \"https://www.igdb.com/player_perspectives/virtual-reality\",\n",
      "        \"checksum\": \"37856551-26c1-d6c1-ef93-217bbcd7f821\"\n",
      "    }\n",
      "]\n"
     ]
    }
   ],
   "source": [
    "from requests import post\n",
    "import json\n",
    "\n",
    "response = post('https://api.igdb.com/v4/player_perspectives', **{'headers': {'Client-ID': client_id, 'Authorization': f\"Bearer {access_token}\"},'data': 'fields checksum,created_at,name,slug,updated_at,url;'})\n",
    "print(\"response:\")\n",
    "print(json.dumps(response.json(), indent=4))"
   ]
  }
 ],
 "metadata": {
  "kernelspec": {
   "display_name": ".venv",
   "language": "python",
   "name": "python3"
  },
  "language_info": {
   "codemirror_mode": {
    "name": "ipython",
    "version": 3
   },
   "file_extension": ".py",
   "mimetype": "text/x-python",
   "name": "python",
   "nbconvert_exporter": "python",
   "pygments_lexer": "ipython3",
   "version": "3.12.3"
  }
 },
 "nbformat": 4,
 "nbformat_minor": 2
}
